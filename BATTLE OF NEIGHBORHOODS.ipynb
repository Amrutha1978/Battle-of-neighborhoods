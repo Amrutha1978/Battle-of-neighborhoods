{
    "nbformat_minor": 1, 
    "cells": [
        {
            "source": "# MY BUSSINESS PROPOSAL AND SOLUTION", 
            "cell_type": "markdown", 
            "metadata": {}
        }, 
        {
            "source": "# Non-Profit-Organization for Kids", 
            "cell_type": "markdown", 
            "metadata": {}
        }, 
        {
            "source": "My idea is to open a Non-Profit-Organization for Kids.\nKids are the foundation for any society and they are the future for every country,I would like to help them through this organization.\nThe main idea is to help kids with different backgrounds with Education and Food.\nI would like to rent a place where there are few restaurants,different kinds of music and dance schools so the kids could be helped in every way possible.The main reasond I want it to be near these venues as it is easy for the volunteers to provide the help needed to the kids as this is a Non-Profit organization.", 
            "cell_type": "markdown", 
            "metadata": {}
        }, 
        {
            "source": "# Few of my reasons", 
            "cell_type": "markdown", 
            "metadata": {}
        }, 
        {
            "source": "1.Kids can be fed if they need form restaurants around as a good-will.\n\n2.Kids can be taught different forms of art and dance form volunteers from the schools around.", 
            "cell_type": "markdown", 
            "metadata": {}
        }, 
        {
            "source": "# Location and Country where I want to start the organization", 
            "cell_type": "markdown", 
            "metadata": {}
        }, 
        {
            "source": "I would like to open the organization in Toronto in Canada.\n", 
            "cell_type": "markdown", 
            "metadata": {}
        }, 
        {
            "source": "# FOR DATA RETRIEVING AND ANALYZING", 
            "cell_type": "markdown", 
            "metadata": {}
        }, 
        {
            "source": "For my data I would like to use the following::", 
            "cell_type": "markdown", 
            "metadata": {}
        }, 
        {
            "source": "I will be getting data from 'https://en.wikipedia.org/wiki/List_of_postal_codes_of_Canada:_M',and using Pandas \nI would convert data into tables for easy understanding. \n\nI will be using this link,\"http://cocl.us/Geospatial_data\" to get the location of the neighborhoods.\n\nThen I will be using my foursquare credentials and call requests for venues from'https://api.foursquare.com\".\n\n", 
            "cell_type": "markdown", 
            "metadata": {}
        }, 
        {
            "source": "I selected Toronto as it has a wider variety of  population with different needs and\nin big cities there are lot of population who are below poverty.", 
            "cell_type": "markdown", 
            "metadata": {}
        }, 
        {
            "source": "At first i will select few places in central toronto and east toronto and find different venues thru foursqaure .\nThen I would like to compare which location has art and music schools and restaurants and then decide where to open the organization.\nI will try to use clusttering to see if it will help me decide my location.", 
            "cell_type": "markdown", 
            "metadata": {}
        }, 
        {
            "source": "For visualizaing the data I would like to use folium for maps as it is very easy to understand", 
            "cell_type": "markdown", 
            "metadata": {}
        }, 
        {
            "execution_count": null, 
            "cell_type": "code", 
            "metadata": {}, 
            "outputs": [], 
            "source": ""
        }
    ], 
    "metadata": {
        "kernelspec": {
            "display_name": "Python 3.5", 
            "name": "python3", 
            "language": "python"
        }, 
        "language_info": {
            "mimetype": "text/x-python", 
            "nbconvert_exporter": "python", 
            "version": "3.5.5", 
            "name": "python", 
            "file_extension": ".py", 
            "pygments_lexer": "ipython3", 
            "codemirror_mode": {
                "version": 3, 
                "name": "ipython"
            }
        }
    }, 
    "nbformat": 4
}