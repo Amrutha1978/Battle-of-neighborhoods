{
    "nbformat_minor": 1, 
    "cells": [
        {
            "source": "# Non-Profit-Organization for Kids", 
            "cell_type": "markdown", 
            "metadata": {}
        }, 
        {
            "source": "My idea is to open a Non-Profit-Organization for Kids.\nKids are the foundation for any society and they are the future for every country,I would like to help them through this organization.\nThe main idea is to help kids with different backgrounds with Education and Food.\nI would like to rent a place where there are few restaurants,different kinds of music and dance schools so the kids could be helped in every way possible.The main reasond I want it to be near these venues as it is easy for the volunteers to provide the help needed to the kids as this is a Non-Profit organization.", 
            "cell_type": "markdown", 
            "metadata": {}
        }, 
        {
            "source": "# Few of my reasons", 
            "cell_type": "markdown", 
            "metadata": {}
        }, 
        {
            "source": "1.Kids can be fed if they need form restaurants around as a good-will.\n\n2.Kids can be taught different forms of art and dance form volunteers from the schools around.", 
            "cell_type": "markdown", 
            "metadata": {}
        }, 
        {
            "source": "# Location and Country where I want to start the organization", 
            "cell_type": "markdown", 
            "metadata": {}
        }, 
        {
            "source": "I would like to open the organization in Toronto in Canada.\n", 
            "cell_type": "markdown", 
            "metadata": {}
        }, 
        {
            "execution_count": null, 
            "cell_type": "code", 
            "metadata": {}, 
            "outputs": [], 
            "source": ""
        }
    ], 
    "metadata": {
        "kernelspec": {
            "display_name": "Python 3.5", 
            "name": "python3", 
            "language": "python"
        }, 
        "language_info": {
            "mimetype": "text/x-python", 
            "nbconvert_exporter": "python", 
            "version": "3.5.5", 
            "name": "python", 
            "file_extension": ".py", 
            "pygments_lexer": "ipython3", 
            "codemirror_mode": {
                "version": 3, 
                "name": "ipython"
            }
        }
    }, 
    "nbformat": 4
}