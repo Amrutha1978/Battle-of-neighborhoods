{
    "nbformat_minor": 1, 
    "cells": [
        {
            "source": "# MY BUSSINESS PROPOSAL AND SOLUTION", 
            "cell_type": "markdown", 
            "metadata": {}
        }, 
        {
            "source": "# 1.Introduction\n", 
            "cell_type": "markdown", 
            "metadata": {}
        }, 
        {
            "source": "# Non-Profit-Organization for Kids", 
            "cell_type": "markdown", 
            "metadata": {}
        }, 
        {
            "source": "My idea is to open a Non-Profit-Organization for Kids.\nKids are the foundation for any society and they are the future for every country,I would like to help them through this organization.\nThe main idea is to help kids with different backgrounds with Education and Food.\nI would like to rent a place where there are few restaurants,different kinds of music and dance schools so the kids could be helped in every way possible.The main reasond I want it to be near these venues as it is easy for the volunteers to provide the help needed to the kids as this is a Non-Profit organization.", 
            "cell_type": "markdown", 
            "metadata": {}
        }, 
        {
            "source": "# Few of my reasons", 
            "cell_type": "markdown", 
            "metadata": {}
        }, 
        {
            "source": "1.Kids can be fed if they need form restaurants around as a good-will.\n\n2.Kids can be taught different forms of art and dance form volunteers from the schools around.", 
            "cell_type": "markdown", 
            "metadata": {}
        }, 
        {
            "source": "# Location and Country where I want to start the organization", 
            "cell_type": "markdown", 
            "metadata": {}
        }, 
        {
            "source": "I would like to open the organization in Toronto in Canada.\n", 
            "cell_type": "markdown", 
            "metadata": {}
        }, 
        {
            "source": "# 2.FOR DATA RETRIEVING AND ANALYZING", 
            "cell_type": "markdown", 
            "metadata": {}
        }, 
        {
            "source": "For my data I would like to use the following::", 
            "cell_type": "markdown", 
            "metadata": {}
        }, 
        {
            "source": "I will be getting data from 'https://en.wikipedia.org/wiki/List_of_postal_codes_of_Canada:_M',and using Pandas \nI would convert data into tables for easy understanding. \n\nI will be using this link,\"http://cocl.us/Geospatial_data\" to get the location of the neighborhoods.\n\nThen I will be using my foursquare credentials and call requests for venues from'https://api.foursquare.com\".\n\n", 
            "cell_type": "markdown", 
            "metadata": {}
        }, 
        {
            "source": "I selected Toronto as it has a wider variety of  population with different needs and\nin big cities there are lot of population who are below poverty.", 
            "cell_type": "markdown", 
            "metadata": {}
        }, 
        {
            "source": "At first i will select few places in central toronto and east toronto and find different venues thru foursqaure .\nThen I would like to compare which location has art and music schools and restaurants and then decide where to open the organization.\nI will try to use clusttering to see if it will help me decide my location.", 
            "cell_type": "markdown", 
            "metadata": {}
        }, 
        {
            "source": "For visualizaing the data I would like to use folium for maps as it is very easy to understand", 
            "cell_type": "markdown", 
            "metadata": {}
        }, 
        {
            "source": "# 3.Data Cleaning::", 
            "cell_type": "markdown", 
            "metadata": {}
        }, 
        {
            "source": "1.We used Pandas to read data from the web.\n\n2.We cleaned the data by removing coulmns which had no data and reset the index.\n\n3.We assigned the Boroughs to the neighborhoods which has same postal code.\n\n4.We reset the index .", 
            "cell_type": "markdown", 
            "metadata": {}
        }, 
        {
            "source": "# 4.  Data Analysis::", 
            "cell_type": "markdown", 
            "metadata": {}
        }, 
        {
            "source": "# These are the neighbourhoods in Central Toronto we would like to explore for the project", 
            "cell_type": "markdown", 
            "metadata": {}
        }, 
        {
            "source": "    Postcode    Borough             Neighbourhood   \n0   M4N         Central Toronto     Lawrence Park   \n1   M4P         Central Toronto     Davisville North    \n2   M4R         Central Toronto     North Toronto West  \n3   M4S         Central Toronto     Davisville  \n4   M4T         Central Toronto     Moore Park, Summerhill East ", 
            "cell_type": "raw", 
            "metadata": {}
        }, 
        {
            "source": "# These are the two neighbourhoods which meet most of the requirements for this project", 
            "cell_type": "markdown", 
            "metadata": {}
        }, 
        {
            "source": "    Neighborhood        Venue                            Venue Category\n0   Lawrence Park       Lawrence Park Ravine             Park\n1   Lawrence Park       Zodiac Swim School               Swim School\n2   Lawrence Park       TTC Bus #162 - Lawrence-Donway    Bus Line\n3   Davisville North    Sherwood Park                     Park\n4   Davisville North    Summerhill Market North         Food & Drink Shop", 
            "cell_type": "raw", 
            "metadata": {}
        }, 
        {
            "source": "# These are the neighbourhoods we used to explore in East Toronto", 
            "cell_type": "markdown", 
            "metadata": {}
        }, 
        {
            "source": "    Postcode    Borough              Neighbourhood  \n0   M4E         East Toronto         The Beaches    \n1   M4K         East Toronto         The Danforth West, Riverdale   \n2   M4L         East Toronto         The Beaches West, India Bazaar \n3   M4M         East Toronto         Studio District    \n4   M7Y         East Toronto         Business Reply Mail Processing Centre 969 Eastern  \n ", 
            "cell_type": "raw", 
            "metadata": {}
        }, 
        {
            "source": "# These are the neighbourhoods we got when we were exploring East Toronto which didnot meet the requirements", 
            "cell_type": "markdown", 
            "metadata": {}
        }, 
        {
            "source": "    Neighborhoo           Venue                                         Venue Category\n0   The Beache            The Big Carrot Natural Food Market            Health Food Store\n1   The Beaches            Grover Pub and Grub                              Pub\n2   The Beaches            starbucks                                     Coffee Shop\n3   The Beaches            Upper Beaches                                Neighborhood\n4   The Danforth West      Pantheon                                   Greek Restaurant\n", 
            "cell_type": "raw", 
            "metadata": {}
        }, 
        {
            "source": "# 5.Solution for the proposal", 
            "cell_type": "markdown", 
            "metadata": {}
        }, 
        {
            "source": "\nThe best first best place to open a Non-profit-Organization will be in DAVISVILLE NORTH IN CENTRAL TORONTO as it has\n\nGYM\n\nDANCE STUDIO\n\nPARK\n\nfew RESTAURANTS\n\nThe second best place to open a Non-profit-Organization will be in LAWRENCE PARK IN CENTRAL TORONTO as it has\n\na BUS line for easy transportation,\n\nSWIM SCHOOL\n\nYOGA STUDIO\n\nFEW REASTAURANTS\n\n\n", 
            "cell_type": "raw", 
            "metadata": {}
        }, 
        {
            "source": "", 
            "cell_type": "markdown", 
            "metadata": {}
        }
    ], 
    "metadata": {
        "kernelspec": {
            "display_name": "Python 3.5", 
            "name": "python3", 
            "language": "python"
        }, 
        "language_info": {
            "mimetype": "text/x-python", 
            "nbconvert_exporter": "python", 
            "version": "3.5.5", 
            "name": "python", 
            "file_extension": ".py", 
            "pygments_lexer": "ipython3", 
            "codemirror_mode": {
                "version": 3, 
                "name": "ipython"
            }
        }
    }, 
    "nbformat": 4
}